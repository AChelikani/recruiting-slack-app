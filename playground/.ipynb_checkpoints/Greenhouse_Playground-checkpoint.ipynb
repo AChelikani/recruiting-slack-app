{
 "cells": [
  {
   "cell_type": "code",
   "execution_count": 2,
   "metadata": {},
   "outputs": [
    {
     "name": "stdout",
     "output_type": "stream",
     "text": [
      "/Users/advith/Documents/GitHub/recruiting-slack-app\n"
     ]
    }
   ],
   "source": [
    "cd .."
   ]
  },
  {
   "cell_type": "code",
   "execution_count": 7,
   "metadata": {},
   "outputs": [],
   "source": [
    "from clients.greenhouse_client import GreenhouseClient\n",
    "from tokens import set_tokens\n",
    "import os\n",
    "\n",
    "set_tokens()\n",
    "\n",
    "gh_client = GreenhouseClient(os.getenv(\"GREENHOUSE_API_TOKEN_SAMSARA\"))\n",
    "interviews_may_3_10 = gh_client.get_all_scheduled_interviews(\"2021-05-03T00:00:00.000Z\", \"2021-05-10T00:00:00.000Z\")\n",
    "interviews_may_10_17 = gh_client.get_all_scheduled_interviews(\"2021-05-10T00:00:00.000Z\", \"2021-05-17T00:00:00.000Z\")\n",
    "interviews_may_17_24 = gh_client.get_all_scheduled_interviews(\"2021-05-17T00:00:00.000Z\", \"2021-05-24T00:00:00.000Z\")\n",
    "interviews_may_24_31 = gh_client.get_all_scheduled_interviews(\"2021-05-24T00:00:00.000Z\", \"2021-05-31T00:00:00.000Z\")\n",
    "\n",
    "# gh_client = GreenhouseClient(os.getenv(\"GREENHOUSE_API_TOKEN_SANDBOX\"))"
   ]
  },
  {
   "cell_type": "code",
   "execution_count": 20,
   "metadata": {},
   "outputs": [],
   "source": [
    "tech_recruiters = sorted([\"Adam Gupta\", \"Carolyne Chen\", \"Charla Apolonio\", \"Greg Labrado\", \"Michelle Astells\", \"Vincent Pietro\", \"Bailey Mirador\", \"Julie Gessow\"])\n",
    "\n",
    "\n",
    "def get_interview_counts(recruiters, interviews):\n",
    "    recruiter_interview_count = {}\n",
    "    for recruiter in recruiters:\n",
    "        recruiter_interview_count[recruiter] = 0\n",
    "        \n",
    "    for interview in interviews:\n",
    "        if interview[\"status\"] != \"complete\":\n",
    "            continue\n",
    "        for interviewer in interview[\"interviewers\"]:\n",
    "            if interviewer[\"name\"] in recruiters:\n",
    "                recruiter_interview_count[interviewer[\"name\"]] += 1\n",
    "    return recruiter_interview_count\n",
    "\n",
    "\n",
    "def sorted_counts_list(count_dict):\n",
    "    sorted_counts = sorted(count_dict.items())\n",
    "    return list(map(lambda x: x[1], sorted_counts))\n",
    "#     return sorted_counts\n",
    "\n",
    "may_3_10_counts = sorted_counts_list(get_interview_counts(tech_recruiters, interviews_may_3_10))\n",
    "may_10_17_counts = sorted_counts_list(get_interview_counts(tech_recruiters, interviews_may_10_17))\n",
    "may_17_24_counts = sorted_counts_list(get_interview_counts(tech_recruiters, interviews_may_17_24))\n",
    "may_24_31_counts = sorted_counts_list(get_interview_counts(tech_recruiters, interviews_may_24_31))\n",
    "\n"
   ]
  },
  {
   "cell_type": "code",
   "execution_count": 21,
   "metadata": {},
   "outputs": [
    {
     "data": {
      "text/plain": [
       "{'5/3': [('Adam Gupta', 8),\n",
       "  ('Bailey Mirador', 0),\n",
       "  ('Carolyne Chen', 8),\n",
       "  ('Charla Apolonio', 12),\n",
       "  ('Greg Labrado', 7),\n",
       "  ('Julie Gessow', 4),\n",
       "  ('Michelle Astells', 9),\n",
       "  ('Vincent Pietro', 12)],\n",
       " '5/10': [('Adam Gupta', 1),\n",
       "  ('Bailey Mirador', 2),\n",
       "  ('Carolyne Chen', 7),\n",
       "  ('Charla Apolonio', 8),\n",
       "  ('Greg Labrado', 1),\n",
       "  ('Julie Gessow', 4),\n",
       "  ('Michelle Astells', 15),\n",
       "  ('Vincent Pietro', 9)],\n",
       " '5/17': [('Adam Gupta', 20),\n",
       "  ('Bailey Mirador', 1),\n",
       "  ('Carolyne Chen', 21),\n",
       "  ('Charla Apolonio', 4),\n",
       "  ('Greg Labrado', 6),\n",
       "  ('Julie Gessow', 13),\n",
       "  ('Michelle Astells', 6),\n",
       "  ('Vincent Pietro', 11)],\n",
       " '5/24': [('Adam Gupta', 15),\n",
       "  ('Bailey Mirador', 4),\n",
       "  ('Carolyne Chen', 10),\n",
       "  ('Charla Apolonio', 6),\n",
       "  ('Greg Labrado', 8),\n",
       "  ('Julie Gessow', 9),\n",
       "  ('Michelle Astells', 8),\n",
       "  ('Vincent Pietro', 24)]}"
      ]
     },
     "execution_count": 21,
     "metadata": {},
     "output_type": "execute_result"
    }
   ],
   "source": [
    "import pandas\n",
    "\n",
    "df = {\"5/3\": may_3_10_counts, \"5/10\": may_10_17_counts, \"5/17\": may_17_24_counts, \"5/24\": may_24_31_counts}\n",
    "df"
   ]
  },
  {
   "cell_type": "code",
   "execution_count": null,
   "metadata": {},
   "outputs": [],
   "source": []
  }
 ],
 "metadata": {
  "kernelspec": {
   "display_name": "Python 3",
   "language": "python",
   "name": "python3"
  },
  "language_info": {
   "codemirror_mode": {
    "name": "ipython",
    "version": 3
   },
   "file_extension": ".py",
   "mimetype": "text/x-python",
   "name": "python",
   "nbconvert_exporter": "python",
   "pygments_lexer": "ipython3",
   "version": "3.7.9"
  }
 },
 "nbformat": 4,
 "nbformat_minor": 2
}
